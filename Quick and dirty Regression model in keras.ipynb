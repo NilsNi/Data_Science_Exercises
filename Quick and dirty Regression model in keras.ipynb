{
 "cells": [
  {
   "cell_type": "markdown",
   "metadata": {
    "collapsed": true
   },
   "source": [
    "## Data preprocessing"
   ]
  },
  {
   "cell_type": "code",
   "execution_count": 1,
   "metadata": {},
   "outputs": [],
   "source": [
    "import pandas as pd\n",
    "import numpy as np\n",
    "from sklearn.model_selection import train_test_split"
   ]
  },
  {
   "cell_type": "code",
   "execution_count": 2,
   "metadata": {},
   "outputs": [],
   "source": [
    "#load the data\n",
    "data = pd.read_csv('https://s3-api.us-geo.objectstorage.softlayer.net/cf-courses-data/CognitiveClass/DL0101EN/labs/data/concrete_data.csv')"
   ]
  },
  {
   "cell_type": "code",
   "execution_count": 3,
   "metadata": {},
   "outputs": [],
   "source": [
    "#define training data and data to be predicted\n",
    "data_columns = data.columns\n",
    "\n",
    "#define features\n",
    "X = data[data_columns[data_columns != 'Strength']]\n",
    "#define target data\n",
    "y = data['Strength']"
   ]
  },
  {
   "cell_type": "code",
   "execution_count": 4,
   "metadata": {},
   "outputs": [],
   "source": [
    "#data normalization\n",
    "X_norm = (X - X.mean()) / X.std()"
   ]
  },
  {
   "cell_type": "code",
   "execution_count": 5,
   "metadata": {},
   "outputs": [],
   "source": [
    "#create the list that will contain all 50 MSE\n",
    "error_collection= []"
   ]
  },
  {
   "cell_type": "markdown",
   "metadata": {},
   "source": [
    "## Build the model"
   ]
  },
  {
   "cell_type": "code",
   "execution_count": 6,
   "metadata": {},
   "outputs": [
    {
     "name": "stderr",
     "output_type": "stream",
     "text": [
      "Using TensorFlow backend.\n"
     ]
    }
   ],
   "source": [
    "import keras"
   ]
  },
  {
   "cell_type": "code",
   "execution_count": 7,
   "metadata": {},
   "outputs": [],
   "source": [
    "from keras.models import Sequential\n",
    "from keras.layers import Dense\n",
    "from sklearn.metrics import mean_squared_error"
   ]
  },
  {
   "cell_type": "code",
   "execution_count": 8,
   "metadata": {},
   "outputs": [],
   "source": [
    "model = Sequential()"
   ]
  },
  {
   "cell_type": "code",
   "execution_count": 9,
   "metadata": {},
   "outputs": [],
   "source": [
    "#define number of input features\n",
    "n_columns = X.shape[1]"
   ]
  },
  {
   "cell_type": "code",
   "execution_count": 10,
   "metadata": {},
   "outputs": [
    {
     "name": "stdout",
     "output_type": "stream",
     "text": [
      "WARNING:tensorflow:From /opt/conda/envs/Python36/lib/python3.6/site-packages/tensorflow/python/framework/op_def_library.py:263: colocate_with (from tensorflow.python.framework.ops) is deprecated and will be removed in a future version.\n",
      "Instructions for updating:\n",
      "Colocations handled automatically by placer.\n"
     ]
    }
   ],
   "source": [
    "model.add(Dense(10, activation ='relu', input_shape=(n_columns,)))\n",
    "model.add(Dense(10, activation='relu'))\n",
    "model.add(Dense(10, activation='relu'))\n",
    "model.add(Dense(1))"
   ]
  },
  {
   "cell_type": "code",
   "execution_count": 11,
   "metadata": {},
   "outputs": [],
   "source": [
    "model.compile(optimizer='adam', loss='mean_squared_error')"
   ]
  },
  {
   "cell_type": "markdown",
   "metadata": {},
   "source": [
    "## The loop: data spliting, model training, model testing, collect MSE"
   ]
  },
  {
   "cell_type": "code",
   "execution_count": 13,
   "metadata": {
    "collapsed": true
   },
   "outputs": [
    {
     "name": "stdout",
     "output_type": "stream",
     "text": [
      "STARTING ITERATION NO.  1 :\n",
      "Epoch 1/50\n",
      "721/721 [==============================] - 0s 419us/step - loss: 1531.0386\n",
      "Epoch 2/50\n",
      "721/721 [==============================] - 0s 434us/step - loss: 1514.4069\n",
      "Epoch 3/50\n",
      "721/721 [==============================] - 0s 450us/step - loss: 1483.9059\n",
      "Epoch 4/50\n",
      "721/721 [==============================] - 0s 406us/step - loss: 1423.9656\n",
      "Epoch 5/50\n",
      "721/721 [==============================] - 0s 407us/step - loss: 1308.8277\n",
      "Epoch 6/50\n",
      "721/721 [==============================] - 0s 421us/step - loss: 1124.6422\n",
      "Epoch 7/50\n",
      "721/721 [==============================] - 0s 417us/step - loss: 861.6824\n",
      "Epoch 8/50\n",
      "721/721 [==============================] - 0s 460us/step - loss: 569.9749\n",
      "Epoch 9/50\n",
      "721/721 [==============================] - 0s 481us/step - loss: 352.7908\n",
      "Epoch 10/50\n",
      "721/721 [==============================] - 0s 444us/step - loss: 261.0238\n",
      "Epoch 11/50\n",
      "721/721 [==============================] - 0s 451us/step - loss: 236.3103\n",
      "Epoch 12/50\n",
      "721/721 [==============================] - 0s 434us/step - loss: 222.6134\n",
      "Epoch 13/50\n",
      "721/721 [==============================] - 0s 415us/step - loss: 211.9743\n",
      "Epoch 14/50\n",
      "721/721 [==============================] - 0s 415us/step - loss: 203.2811\n",
      "Epoch 15/50\n",
      "721/721 [==============================] - 0s 447us/step - loss: 196.7236\n",
      "Epoch 16/50\n",
      "721/721 [==============================] - 0s 447us/step - loss: 190.2970\n",
      "Epoch 17/50\n",
      "721/721 [==============================] - 0s 429us/step - loss: 184.8666\n",
      "Epoch 18/50\n",
      "721/721 [==============================] - 0s 422us/step - loss: 179.9867\n",
      "Epoch 19/50\n",
      "721/721 [==============================] - 0s 434us/step - loss: 175.3995\n",
      "Epoch 20/50\n",
      "721/721 [==============================] - 0s 440us/step - loss: 171.4339\n",
      "Epoch 21/50\n",
      "721/721 [==============================] - 2s 3ms/step - loss: 167.6309\n",
      "Epoch 22/50\n",
      "721/721 [==============================] - 1s 2ms/step - loss: 164.1636\n",
      "Epoch 23/50\n",
      "721/721 [==============================] - 0s 417us/step - loss: 161.3337\n",
      "Epoch 24/50\n",
      "721/721 [==============================] - 0s 456us/step - loss: 158.3517\n",
      "Epoch 25/50\n",
      "721/721 [==============================] - 0s 423us/step - loss: 155.7069\n",
      "Epoch 26/50\n",
      "721/721 [==============================] - 0s 442us/step - loss: 153.3053\n",
      "Epoch 27/50\n",
      "721/721 [==============================] - 0s 479us/step - loss: 150.8488\n",
      "Epoch 28/50\n",
      "721/721 [==============================] - 0s 468us/step - loss: 148.2996\n",
      "Epoch 29/50\n",
      "721/721 [==============================] - 0s 413us/step - loss: 146.0571\n",
      "Epoch 30/50\n",
      "721/721 [==============================] - 1s 2ms/step - loss: 143.8212\n",
      "Epoch 31/50\n",
      "721/721 [==============================] - 0s 417us/step - loss: 141.9378\n",
      "Epoch 32/50\n",
      "721/721 [==============================] - 0s 419us/step - loss: 139.7181\n",
      "Epoch 33/50\n",
      "721/721 [==============================] - 0s 437us/step - loss: 137.7925\n",
      "Epoch 34/50\n",
      "721/721 [==============================] - 0s 422us/step - loss: 136.2641\n",
      "Epoch 35/50\n",
      "721/721 [==============================] - 0s 462us/step - loss: 134.4834\n",
      "Epoch 36/50\n",
      "721/721 [==============================] - 0s 443us/step - loss: 132.9910\n",
      "Epoch 37/50\n",
      "721/721 [==============================] - 0s 422us/step - loss: 131.7569\n",
      "Epoch 38/50\n",
      "721/721 [==============================] - 0s 437us/step - loss: 130.4439\n",
      "Epoch 39/50\n",
      "721/721 [==============================] - 0s 419us/step - loss: 128.8936\n",
      "Epoch 40/50\n",
      "721/721 [==============================] - 0s 412us/step - loss: 127.6608\n",
      "Epoch 41/50\n",
      "721/721 [==============================] - 0s 430us/step - loss: 126.2119\n",
      "Epoch 42/50\n",
      "721/721 [==============================] - 0s 445us/step - loss: 125.2907 0s - loss: 145.\n",
      "Epoch 43/50\n",
      "721/721 [==============================] - 0s 446us/step - loss: 123.9208\n",
      "Epoch 44/50\n",
      "721/721 [==============================] - 0s 452us/step - loss: 122.8189\n",
      "Epoch 45/50\n",
      "721/721 [==============================] - 0s 466us/step - loss: 121.5366\n",
      "Epoch 46/50\n",
      "721/721 [==============================] - 0s 437us/step - loss: 120.5729\n",
      "Epoch 47/50\n",
      "721/721 [==============================] - 0s 417us/step - loss: 119.5790\n",
      "Epoch 48/50\n",
      "721/721 [==============================] - 0s 416us/step - loss: 118.4414\n",
      "Epoch 49/50\n",
      "721/721 [==============================] - 0s 443us/step - loss: 117.3021\n",
      "Epoch 50/50\n",
      "721/721 [==============================] - 0s 439us/step - loss: 116.4055\n",
      "STARTING ITERATION NO.  2 :\n",
      "Epoch 1/50\n",
      "721/721 [==============================] - 0s 400us/step - loss: 115.5174\n",
      "Epoch 2/50\n",
      "721/721 [==============================] - 1s 2ms/step - loss: 114.3984\n",
      "Epoch 3/50\n",
      "721/721 [==============================] - 0s 446us/step - loss: 113.8790\n",
      "Epoch 4/50\n",
      "721/721 [==============================] - 0s 427us/step - loss: 113.5648\n",
      "Epoch 5/50\n",
      "721/721 [==============================] - 0s 432us/step - loss: 111.5546\n",
      "Epoch 6/50\n",
      "721/721 [==============================] - 0s 420us/step - loss: 110.9453\n",
      "Epoch 7/50\n",
      "721/721 [==============================] - 0s 405us/step - loss: 110.4589\n",
      "Epoch 8/50\n",
      "721/721 [==============================] - 0s 417us/step - loss: 109.2084\n",
      "Epoch 9/50\n",
      "721/721 [==============================] - 0s 449us/step - loss: 108.5768\n",
      "Epoch 10/50\n",
      "721/721 [==============================] - 0s 475us/step - loss: 107.9224\n",
      "Epoch 11/50\n",
      "721/721 [==============================] - 0s 406us/step - loss: 106.8679\n",
      "Epoch 12/50\n",
      "721/721 [==============================] - 0s 447us/step - loss: 106.1235\n",
      "Epoch 13/50\n",
      "721/721 [==============================] - 0s 406us/step - loss: 105.4262\n",
      "Epoch 14/50\n",
      "721/721 [==============================] - 0s 418us/step - loss: 104.3419\n",
      "Epoch 15/50\n",
      "721/721 [==============================] - 0s 442us/step - loss: 103.6795\n",
      "Epoch 16/50\n",
      "721/721 [==============================] - 0s 496us/step - loss: 103.2788\n",
      "Epoch 17/50\n",
      "721/721 [==============================] - 0s 439us/step - loss: 102.1781\n",
      "Epoch 18/50\n",
      "721/721 [==============================] - 0s 438us/step - loss: 101.5761\n",
      "Epoch 19/50\n",
      "721/721 [==============================] - 0s 463us/step - loss: 100.8578\n",
      "Epoch 20/50\n",
      "721/721 [==============================] - 0s 426us/step - loss: 100.3566\n",
      "Epoch 21/50\n",
      "721/721 [==============================] - 0s 443us/step - loss: 99.4659\n",
      "Epoch 22/50\n",
      "721/721 [==============================] - 0s 448us/step - loss: 99.2882\n",
      "Epoch 23/50\n",
      "721/721 [==============================] - 0s 454us/step - loss: 98.6210\n",
      "Epoch 24/50\n",
      "721/721 [==============================] - 0s 389us/step - loss: 98.2135\n",
      "Epoch 25/50\n",
      "721/721 [==============================] - 0s 396us/step - loss: 97.1761\n",
      "Epoch 26/50\n",
      "721/721 [==============================] - 0s 417us/step - loss: 96.4796\n",
      "Epoch 27/50\n",
      "721/721 [==============================] - 0s 393us/step - loss: 95.7975\n",
      "Epoch 28/50\n",
      "721/721 [==============================] - 0s 436us/step - loss: 95.3816\n",
      "Epoch 29/50\n",
      "721/721 [==============================] - 0s 466us/step - loss: 95.1529\n",
      "Epoch 30/50\n",
      "721/721 [==============================] - 1s 2ms/step - loss: 93.8726\n",
      "Epoch 31/50\n",
      "721/721 [==============================] - 2s 3ms/step - loss: 93.2627\n",
      "Epoch 32/50\n",
      "721/721 [==============================] - 1s 2ms/step - loss: 92.8573\n",
      "Epoch 33/50\n",
      "721/721 [==============================] - 0s 423us/step - loss: 91.9966\n",
      "Epoch 34/50\n",
      "721/721 [==============================] - 0s 407us/step - loss: 90.8660\n",
      "Epoch 35/50\n",
      "721/721 [==============================] - 0s 436us/step - loss: 90.0511\n",
      "Epoch 36/50\n",
      "721/721 [==============================] - 0s 417us/step - loss: 89.2131\n",
      "Epoch 37/50\n",
      "721/721 [==============================] - 0s 444us/step - loss: 88.6662\n",
      "Epoch 38/50\n",
      "721/721 [==============================] - 0s 420us/step - loss: 87.7432\n",
      "Epoch 39/50\n",
      "721/721 [==============================] - 0s 418us/step - loss: 86.4757\n",
      "Epoch 40/50\n",
      "721/721 [==============================] - 0s 404us/step - loss: 85.5302\n",
      "Epoch 41/50\n",
      "721/721 [==============================] - 0s 411us/step - loss: 84.8396\n",
      "Epoch 42/50\n",
      "721/721 [==============================] - 0s 417us/step - loss: 83.8027\n",
      "Epoch 43/50\n",
      "721/721 [==============================] - 0s 440us/step - loss: 82.7218\n",
      "Epoch 44/50\n",
      "721/721 [==============================] - 0s 470us/step - loss: 81.8918\n",
      "Epoch 45/50\n",
      "721/721 [==============================] - 0s 389us/step - loss: 80.9415\n",
      "Epoch 46/50\n",
      "721/721 [==============================] - 0s 417us/step - loss: 80.1403\n",
      "Epoch 47/50\n",
      "721/721 [==============================] - 0s 446us/step - loss: 79.3031\n",
      "Epoch 48/50\n",
      "721/721 [==============================] - 0s 406us/step - loss: 78.5373\n",
      "Epoch 49/50\n",
      "721/721 [==============================] - 0s 444us/step - loss: 77.8715\n",
      "Epoch 50/50\n",
      "721/721 [==============================] - 0s 450us/step - loss: 76.8107\n",
      "STARTING ITERATION NO.  3 :\n",
      "Epoch 1/50\n",
      "721/721 [==============================] - 0s 414us/step - loss: 75.8555\n",
      "Epoch 2/50\n",
      "721/721 [==============================] - 0s 426us/step - loss: 74.9608\n",
      "Epoch 3/50\n",
      "721/721 [==============================] - 0s 429us/step - loss: 73.9813\n",
      "Epoch 4/50\n",
      "721/721 [==============================] - 0s 418us/step - loss: 72.9278\n",
      "Epoch 5/50\n",
      "721/721 [==============================] - 0s 442us/step - loss: 72.0915\n",
      "Epoch 6/50\n",
      "721/721 [==============================] - 0s 470us/step - loss: 71.3618\n",
      "Epoch 7/50\n",
      "721/721 [==============================] - 0s 438us/step - loss: 70.4174\n",
      "Epoch 8/50\n",
      "721/721 [==============================] - 0s 415us/step - loss: 69.7086\n",
      "Epoch 9/50\n",
      "721/721 [==============================] - 0s 423us/step - loss: 68.4297\n",
      "Epoch 10/50\n",
      "721/721 [==============================] - 0s 439us/step - loss: 67.6306\n",
      "Epoch 11/50\n",
      "721/721 [==============================] - 0s 442us/step - loss: 66.0675\n",
      "Epoch 12/50\n",
      "721/721 [==============================] - 0s 476us/step - loss: 64.7914\n",
      "Epoch 13/50\n",
      "721/721 [==============================] - 0s 412us/step - loss: 63.5920\n",
      "Epoch 14/50\n",
      "721/721 [==============================] - 2s 3ms/step - loss: 62.2799\n",
      "Epoch 15/50\n",
      "721/721 [==============================] - 0s 430us/step - loss: 61.1513\n",
      "Epoch 16/50\n",
      "721/721 [==============================] - 1s 2ms/step - loss: 59.9778\n",
      "Epoch 17/50\n",
      "721/721 [==============================] - 0s 445us/step - loss: 59.0519\n",
      "Epoch 18/50\n",
      "721/721 [==============================] - 0s 393us/step - loss: 59.2068\n",
      "Epoch 19/50\n",
      "721/721 [==============================] - 0s 416us/step - loss: 57.8198\n",
      "Epoch 20/50\n",
      "721/721 [==============================] - 0s 449us/step - loss: 56.5892\n",
      "Epoch 21/50\n",
      "721/721 [==============================] - 1s 2ms/step - loss: 56.0034\n",
      "Epoch 22/50\n",
      "721/721 [==============================] - 0s 468us/step - loss: 55.2469\n",
      "Epoch 23/50\n",
      "721/721 [==============================] - 0s 465us/step - loss: 54.8217\n",
      "Epoch 24/50\n",
      "721/721 [==============================] - 0s 439us/step - loss: 54.3504\n",
      "Epoch 25/50\n",
      "721/721 [==============================] - 0s 417us/step - loss: 53.6308\n",
      "Epoch 26/50\n",
      "721/721 [==============================] - 0s 437us/step - loss: 53.2890\n",
      "Epoch 27/50\n",
      "721/721 [==============================] - 0s 417us/step - loss: 52.7264\n",
      "Epoch 28/50\n",
      "721/721 [==============================] - 0s 418us/step - loss: 51.9063\n",
      "Epoch 29/50\n",
      "721/721 [==============================] - 0s 436us/step - loss: 51.8973\n",
      "Epoch 30/50\n",
      "721/721 [==============================] - 0s 397us/step - loss: 51.3014\n",
      "Epoch 31/50\n",
      "721/721 [==============================] - 0s 432us/step - loss: 50.7362\n",
      "Epoch 32/50\n",
      "721/721 [==============================] - 0s 414us/step - loss: 50.2992\n",
      "Epoch 33/50\n",
      "721/721 [==============================] - 0s 443us/step - loss: 49.7496\n",
      "Epoch 34/50\n",
      "721/721 [==============================] - 0s 414us/step - loss: 49.2929\n",
      "Epoch 35/50\n",
      "721/721 [==============================] - 0s 415us/step - loss: 49.0725\n",
      "Epoch 36/50\n",
      "721/721 [==============================] - 0s 415us/step - loss: 48.6364\n",
      "Epoch 37/50\n",
      "721/721 [==============================] - 0s 419us/step - loss: 48.4711\n",
      "Epoch 38/50\n",
      "721/721 [==============================] - 0s 440us/step - loss: 48.0745\n",
      "Epoch 39/50\n",
      "721/721 [==============================] - 0s 439us/step - loss: 47.9180\n",
      "Epoch 40/50\n",
      "721/721 [==============================] - 0s 430us/step - loss: 47.6558\n",
      "Epoch 41/50\n",
      "721/721 [==============================] - 0s 433us/step - loss: 48.2709\n",
      "Epoch 42/50\n",
      "721/721 [==============================] - 2s 3ms/step - loss: 46.8591\n",
      "Epoch 43/50\n",
      "721/721 [==============================] - 1s 2ms/step - loss: 46.6768\n",
      "Epoch 44/50\n",
      "721/721 [==============================] - 0s 512us/step - loss: 46.1902\n",
      "Epoch 45/50\n",
      "721/721 [==============================] - 0s 428us/step - loss: 45.8367\n",
      "Epoch 46/50\n",
      "721/721 [==============================] - 0s 417us/step - loss: 45.7624\n",
      "Epoch 47/50\n",
      "721/721 [==============================] - 0s 419us/step - loss: 45.3114\n",
      "Epoch 48/50\n",
      "721/721 [==============================] - 0s 440us/step - loss: 44.9672\n",
      "Epoch 49/50\n",
      "721/721 [==============================] - 1s 2ms/step - loss: 44.9394\n",
      "Epoch 50/50\n",
      "721/721 [==============================] - 0s 428us/step - loss: 44.3013\n"
     ]
    }
   ],
   "source": [
    "n = 0;\n",
    "for n in range(50):\n",
    "    print(\"STARTING ITERATION NO. \", n+1, \":\")\n",
    "    \n",
    "    #split data into train/test:\n",
    "    X_train, X_test, y_train, y_test = train_test_split(X_norm, y, test_size=0.3, random_state=1)\n",
    "\n",
    "    #train the model\n",
    "    model.fit(X_train, y_train, epochs=50)\n",
    "\n",
    "    #test the model\n",
    "    yhat_test = model.predict(X_test)\n",
    "\n",
    "    #collect MSE\n",
    "    error_collection.append(mean_squared_error(y_test, yhat_test))"
   ]
  },
  {
   "cell_type": "markdown",
   "metadata": {},
   "source": [
    "## Compute mean and standard deviation of all MSE"
   ]
  },
  {
   "cell_type": "code",
   "execution_count": 14,
   "metadata": {},
   "outputs": [],
   "source": [
    "error_collection_MSE = np.mean(error_collection)\n",
    "\n",
    "import statistics\n",
    "error_collection_sd = statistics.stdev(error_collection)"
   ]
  },
  {
   "cell_type": "code",
   "execution_count": 15,
   "metadata": {},
   "outputs": [
    {
     "data": {
      "text/plain": [
       "(107.98755874556106, 41.05007100394472)"
      ]
     },
     "execution_count": 15,
     "metadata": {},
     "output_type": "execute_result"
    }
   ],
   "source": [
    "#print both results\n",
    "error_collection_MSE, error_collection_sd"
   ]
  }
 ],
 "metadata": {
  "kernelspec": {
   "display_name": "Python 3.6",
   "language": "python",
   "name": "python3"
  },
  "language_info": {
   "codemirror_mode": {
    "name": "ipython",
    "version": 3
   },
   "file_extension": ".py",
   "mimetype": "text/x-python",
   "name": "python",
   "nbconvert_exporter": "python",
   "pygments_lexer": "ipython3",
   "version": "3.6.9"
  }
 },
 "nbformat": 4,
 "nbformat_minor": 1
}
